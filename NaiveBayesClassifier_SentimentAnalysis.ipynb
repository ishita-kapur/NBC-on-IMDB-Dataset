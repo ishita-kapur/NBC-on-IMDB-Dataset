{
 "cells": [
  {
   "cell_type": "markdown",
   "metadata": {},
   "source": [
    "## NBC on IMDB Reviews\n",
    "\n",
    "#### Author - Ishita Kapur"
   ]
  },
  {
   "cell_type": "code",
   "execution_count": 1,
   "metadata": {},
   "outputs": [],
   "source": [
    "#import the required libraries\n",
    "import os\n",
    "import re\n",
    "import csv\n",
    "import operator\n",
    "import collections\n",
    "import pandas as pd\n",
    "import numpy as np\n",
    "import matplotlib.pyplot as plt"
   ]
  },
  {
   "cell_type": "code",
   "execution_count": 2,
   "metadata": {},
   "outputs": [],
   "source": [
    "# Title: Combine a folder of text files into a CSV with each content in a cell\n",
    "# Author: Nathaniel Verhaaren\n",
    "# Date: 01.28.2017\n",
    "# Code version: 1\n",
    "# Availability: \n",
    "#  https://stackoverflow.com/questions/41913147/combine-a-folder-of-text-files-into-a-csv-with-each-content-in-a-cell\n",
    "#function for collecting data from multiple files and storing data in a csv and removing unwanted characters\n",
    "def collectDataFromTextFiles(dirpath, output_file):\n",
    "    if os.path.exists(output_file):\n",
    "        os.remove(output_file)\n",
    "    for file_path in dirpath:\n",
    "        with open(output_file, 'a', encoding=\"utf8\") as outfile:\n",
    "            csvout = csv.writer(outfile)\n",
    "            #csvout.writerow(['FileName', 'Content'])\n",
    "            files = os.listdir(file_path)\n",
    "            for filename in files:\n",
    "                with open(file_path + '/' + filename, encoding=\"utf8\") as afile:\n",
    "                    rev_file = file_path[-3:]\n",
    "                    csvout.writerow([afile.read(), rev_file])\n",
    "                    afile.close()\n",
    "            outfile.close()\n",
    "    df = pd.read_csv(output_file, header=None)\n",
    "    df.iloc[:, 0] = df.iloc[:, 0].str.replace(r\"[^a-zA-Z\\d\\s]+\", \" \")\n",
    "    df.iloc[:, 0] = df.iloc[:, 0].str.lower()\n",
    "    df = df.sample(frac=1)\n",
    "    df.to_csv(output_file, index=False)"
   ]
  },
  {
   "cell_type": "code",
   "execution_count": 3,
   "metadata": {},
   "outputs": [],
   "source": [
    "#collecting training data from multiple text files into a single csv\n",
    "train_dirpath = [r'D:\\UTA Spring 2020 Sem II\\CSE 5334\\Assignments\\Assignment_3\\aclImdb\\train\\pos',\n",
    "                 r'D:\\UTA Spring 2020 Sem II\\CSE 5334\\Assignments\\Assignment_3\\aclImdb\\train\\neg']\n",
    "train_data = r'D:\\UTA Spring 2020 Sem II\\CSE 5334\\Assignments\\Assignment_3\\train_data.csv'\n",
    "collectDataFromTextFiles(train_dirpath, train_data)"
   ]
  },
  {
   "cell_type": "code",
   "execution_count": 4,
   "metadata": {},
   "outputs": [],
   "source": [
    "#collecting test data from multiple text files into a single csv\n",
    "test_dirpath = [r'D:\\UTA Spring 2020 Sem II\\CSE 5334\\Assignments\\Assignment_3\\aclImdb\\test\\pos',\n",
    "                r'D:\\UTA Spring 2020 Sem II\\CSE 5334\\Assignments\\Assignment_3\\aclImdb\\test\\neg']\n",
    "test_data = r'D:\\UTA Spring 2020 Sem II\\CSE 5334\\Assignments\\Assignment_3\\test_data.csv'\n",
    "collectDataFromTextFiles(test_dirpath, test_data)"
   ]
  },
  {
   "cell_type": "markdown",
   "metadata": {},
   "source": [
    "### Part a)\n",
    "#### Dividing the dataset"
   ]
  },
  {
   "cell_type": "code",
   "execution_count": 5,
   "metadata": {},
   "outputs": [],
   "source": [
    "#reading training and test from the csv file\n",
    "train_df = pd.read_csv(train_data, header=0)\n",
    "test_df = pd.read_csv(test_data, header=0)"
   ]
  },
  {
   "cell_type": "code",
   "execution_count": 6,
   "metadata": {},
   "outputs": [
    {
     "name": "stdout",
     "output_type": "stream",
     "text": [
      "Number of Positive Reviews is Training Set : 12500\n",
      "Number of Negative Reviews is Training Set : 12500\n"
     ]
    }
   ],
   "source": [
    "num_pos_train_df = train_df.iloc[:,1].str.contains('pos').value_counts()[True]\n",
    "print('Number of Positive Reviews is Training Set :', num_pos_train_df)\n",
    "num_neg_train_df = len(train_df) - num_pos_train_df\n",
    "print('Number of Negative Reviews is Training Set :', num_neg_train_df)"
   ]
  },
  {
   "cell_type": "markdown",
   "metadata": {},
   "source": [
    "### Part b)\n",
    "#### Building a Vocabulary List"
   ]
  },
  {
   "cell_type": "code",
   "execution_count": 7,
   "metadata": {},
   "outputs": [],
   "source": [
    "#counting the number of reviews containing a particular word\n",
    "def docsContainingWord(dataset):\n",
    "    count_from_set = collections.defaultdict(int)\n",
    "    rev_list = dataset.iloc[:,0].to_list()\n",
    "    doc_words = []\n",
    "    for rev in rev_list:\n",
    "        words = re.findall('[^\\W\\d_]+', rev)\n",
    "        words = [w for w in words if len(w) > 1]\n",
    "        doc_words.append(words)\n",
    "    for vlist in doc_words:\n",
    "        for i in set(vlist):\n",
    "            count_from_set[i] += 1\n",
    "    return count_from_set\n",
    "\n",
    "#dataframe containng positive reviews\n",
    "pos_train_df = train_df[(train_df.iloc[:,1].str.contains('pos'))]\n",
    "#dataframe containng negative reviews\n",
    "neg_train_df = train_df[(train_df.iloc[:,1].str.contains('neg'))]\n",
    "#count of training data reviews containing a particular word\n",
    "docs_cont_word = dict(docsContainingWord(train_df))\n",
    "#count of positive training data reviews containing a particular word\n",
    "pos_docs_cont_word = dict(docsContainingWord(pos_train_df))\n",
    "#count of negative training data reviews containing a particular word\n",
    "neg_docs_cont_word = dict(docsContainingWord(neg_train_df))"
   ]
  },
  {
   "cell_type": "markdown",
   "metadata": {},
   "source": [
    "#### Vocabulary List"
   ]
  },
  {
   "cell_type": "code",
   "execution_count": 8,
   "metadata": {},
   "outputs": [
    {
     "name": "stdout",
     "output_type": "stream",
     "text": [
      "First few Words in the Vocabulary List are :\n",
      "\n",
      " ['the', 'and', 'of', 'to', 'this', 'is', 'it', 'in', 'that', 'but', 'for', 'with', 'was', 'as', 'on', 'movie', 'not', 'br', 'have', 'one', 'be', 'film', 'are', 'you', 'all', 'at', 'an', 'so', 'by', 'from', 'like', 'who', 'they', 'there', 'if', 'his', 'out', 'just', 'about', 'he', 'or', 'has', 'what', 'some', 'good', 'can', 'more', 'when', 'time', 'very', 'up', 'even', 'only', 'no', 'would', 'my', 'see', 'really', 'story', 'which', 'well', 'had', 'me', 'than', 'much', 'their', 'get', 'were', 'other', 'been', 'do', 'most', 'don', 'her', 'also', 'into', 'first', 'made', 'how', 'great', 'because', 'will', 'people', 'make', 'way', 'could', 'we', 'bad', 'after', 'any', 'too', 'then', 'them', 'she', 'watch', 'think', 'acting', 'movies', 'seen', 'its']\n"
     ]
    }
   ],
   "source": [
    "#vocabulary list from training data\n",
    "vocab_dict = dict(sorted(docs_cont_word.items(), key=operator.itemgetter(1),reverse=True))\n",
    "vocabulary_list = [k for k, v in vocab_dict.items() if v >= 5]\n",
    "print('First few Words in the Vocabulary List are :\\n\\n', vocabulary_list[:100])"
   ]
  },
  {
   "cell_type": "markdown",
   "metadata": {},
   "source": [
    "#### Reverse Indexing"
   ]
  },
  {
   "cell_type": "code",
   "execution_count": 9,
   "metadata": {},
   "outputs": [
    {
     "name": "stdout",
     "output_type": "stream",
     "text": [
      "First few Words with reverse indexing are :\n",
      "\n",
      " {'the': 0, 'and': 1, 'of': 2, 'to': 3, 'this': 4, 'is': 5, 'it': 6, 'in': 7, 'that': 8, 'but': 9, 'for': 10, 'with': 11, 'was': 12, 'as': 13, 'on': 14, 'movie': 15, 'not': 16, 'br': 17, 'have': 18, 'one': 19, 'be': 20, 'film': 21, 'are': 22, 'you': 23, 'all': 24, 'at': 25, 'an': 26, 'so': 27, 'by': 28, 'from': 29, 'like': 30, 'who': 31, 'they': 32, 'there': 33, 'if': 34, 'his': 35, 'out': 36, 'just': 37, 'about': 38, 'he': 39, 'or': 40, 'has': 41, 'what': 42, 'some': 43, 'good': 44, 'can': 45, 'more': 46, 'when': 47, 'time': 48, 'very': 49, 'up': 50, 'even': 51, 'only': 52, 'no': 53, 'would': 54, 'my': 55, 'see': 56, 'really': 57, 'story': 58, 'which': 59, 'well': 60, 'had': 61, 'me': 62, 'than': 63, 'much': 64, 'their': 65, 'get': 66, 'were': 67, 'other': 68, 'been': 69, 'do': 70, 'most': 71, 'don': 72, 'her': 73, 'also': 74, 'into': 75, 'first': 76, 'made': 77, 'how': 78, 'great': 79, 'because': 80, 'will': 81, 'people': 82, 'make': 83, 'way': 84, 'could': 85, 'we': 86, 'bad': 87, 'after': 88, 'any': 89, 'too': 90, 'then': 91, 'them': 92, 'she': 93, 'watch': 94, 'think': 95, 'acting': 96, 'movies': 97, 'seen': 98, 'its': 99}\n"
     ]
    }
   ],
   "source": [
    "#Building a Reverse Index\n",
    "rev_idx_dict = {}\n",
    "value = 0\n",
    "for idx in vocabulary_list:\n",
    "    rev_idx_dict[idx] = value\n",
    "    value += 1\n",
    "print('First few Words with reverse indexing are :\\n\\n', {k: rev_idx_dict[k] for k in list(rev_idx_dict)[:100]})"
   ]
  },
  {
   "cell_type": "code",
   "execution_count": 10,
   "metadata": {},
   "outputs": [
    {
     "name": "stdout",
     "output_type": "stream",
     "text": [
      "20 most frequent words:\n"
     ]
    },
    {
     "data": {
      "image/png": "[encoded data removed]",
      "text/plain": [
       "<Figure size 432x288 with 1 Axes>"
      ]
     },
     "metadata": {
      "needs_background": "light"
     },
     "output_type": "display_data"
    }
   ],
   "source": [
    "print('20 most frequent words:')\n",
    "most_common_words = {k:vocab_dict[k] for k in vocabulary_list[:20]}\n",
    "plt.barh(*zip(*most_common_words.items()))\n",
    "plt.xlabel('Frequency')\n",
    "plt.ylabel('Word')\n",
    "plt.show()"
   ]
  },
  {
   "cell_type": "markdown",
   "metadata": {},
   "source": [
    "### Part c)\n",
    "#### Calculating Probabilities"
   ]
  },
  {
   "cell_type": "code",
   "execution_count": 11,
   "metadata": {},
   "outputs": [
    {
     "name": "stdout",
     "output_type": "stream",
     "text": [
      "Calculating the PROBABILITY of OCCURRENCE: \n",
      "\n",
      "Number of documents containing the word \"the\" : 24793\n",
      "Total number of documents : 25000\n",
      "Probability of occurrence of the word \"the\" : 0.99172\n",
      "\n",
      "\n",
      "Calculating the CONDITIONAL PROBABILITY based on Sentiment: \n",
      "\n",
      "Number of positive documents containing the word \"the\" : 12381\n",
      "Total number of positive documents : 12500\n",
      "Probability of occurrence of the word \"the\" given the document is positive : 0.99048\n"
     ]
    }
   ],
   "source": [
    "#P[“the”]\n",
    "print('Calculating the PROBABILITY of OCCURRENCE: \\n')\n",
    "count_docs_the = docs_cont_word['the']\n",
    "print('Number of documents containing the word \"the\" :', count_docs_the)\n",
    "total_docs = len(train_df)\n",
    "print('Total number of documents :', total_docs)\n",
    "prob_the = count_docs_the / total_docs\n",
    "print('Probability of occurrence of the word \"the\" :', prob_the)\n",
    "\n",
    "#P[“the” | Positive]\n",
    "print('\\n\\nCalculating the CONDITIONAL PROBABILITY based on Sentiment: \\n')\n",
    "count_pos_docs_the = pos_docs_cont_word['the']\n",
    "print('Number of positive documents containing the word \"the\" :', count_pos_docs_the)\n",
    "total_pos_docs = len(pos_train_df)\n",
    "total_neg_docs = len(neg_train_df)\n",
    "print('Total number of positive documents :', total_pos_docs)\n",
    "prob_the_pos = count_pos_docs_the / total_pos_docs\n",
    "print('Probability of occurrence of the word \"the\" given the document is positive :', prob_the_pos)"
   ]
  },
  {
   "cell_type": "markdown",
   "metadata": {},
   "source": [
    "### Part d)\n",
    "#### Performing 5 Fold cross validation"
   ]
  },
  {
   "cell_type": "code",
   "execution_count": 12,
   "metadata": {},
   "outputs": [
    {
     "name": "stdout",
     "output_type": "stream",
     "text": [
      "                                                       0    1\n",
      "3245   this is simply the funniest movie i ve seen in...  pos\n",
      "16243  this is a typical steele novel production in t...  neg\n",
      "14299  this movie got off to an interesting start  do...  neg\n",
      "16014  it s been so long since i ve seen this movie  ...  pos\n",
      "6332   i m stunt  i must admit i never saw a movie wi...  pos\n",
      "...                                                  ...  ...\n",
      "15087  this movie had good intentions and a good stor...  neg\n",
      "18745  this movie was so very badly written  the char...  neg\n",
      "24251  man about the house is a true situation comedy...  pos\n",
      "15189  as other reviewers have noted  this is an unju...  pos\n",
      "22225  normally  i have no problem with a movie or st...  neg\n",
      "\n",
      "[5000 rows x 2 columns]\n",
      "                                                       0    1\n",
      "13943  my take on this  at our local festival where p...  pos\n",
      "21636  if john waters had written and directed  house...  neg\n",
      "14349  the story has been told before  a deadly disea...  pos\n",
      "20409   the luzhin defence  is a movie worthy of anyo...  pos\n",
      "18808  i was very impressed with this small  independ...  pos\n",
      "...                                                  ...  ...\n",
      "10577  i have just recently purchased collection one ...  pos\n",
      "24856  the 3 d featured in  the man who wasn t there ...  neg\n",
      "22090  this series could very well be the best britco...  pos\n",
      "20057  this was a big disappointment for me  i think ...  neg\n",
      "22650  this was a great movie  even though there was ...  pos\n",
      "\n",
      "[5000 rows x 2 columns]\n",
      "                                                       0    1\n",
      "22671  i had to walk out of the theater  after an hou...  neg\n",
      "14132  this film  the alamo thirteen days to glory  i...  neg\n",
      "1160   this  film  is the culmination of everything t...  neg\n",
      "21067  this sure is one comedy i m not likely to forg...  neg\n",
      "15613  2 stars  and i m being generous   minor spoile...  neg\n",
      "...                                                  ...  ...\n",
      "3419   i ve seen a slew of  80s rocker horrors  over ...  pos\n",
      "11499  martin weisz  who directed the solid  rohtenbu...  neg\n",
      "22915  this project was originally conceived as the m...  pos\n",
      "18955  this film  originally released at christmas  1...  neg\n",
      "18470  most people  when they think of expressionist ...  pos\n",
      "\n",
      "[5000 rows x 2 columns]\n",
      "                                                       0    1\n",
      "10581  this is the first of these  8 films to die for...  neg\n",
      "1054   i love the doodlebops  my son has been watchin...  pos\n",
      "9748   despite the gravity of the subject and probabl...  neg\n",
      "685    surprisingly good early effort from alfred hit...  pos\n",
      "1746   holy   this movie was still warm and juicy fro...  neg\n",
      "...                                                  ...  ...\n",
      "1712   i saw the 10p m  showing and i must say that t...  neg\n",
      "11322  nicholas walker is paul  the local town revera...  neg\n",
      "3582   goldeneye will always go down as one of thee m...  pos\n",
      "22396  a long time ago  i watched this movie from the...  pos\n",
      "17324  you know how everyone jokes about the acting i...  neg\n",
      "\n",
      "[5000 rows x 2 columns]\n",
      "                                                       0    1\n",
      "15556  my 7 year old daughter loved it  as disney exe...  neg\n",
      "20373  originally called the changer  the nostril pic...  neg\n",
      "21136  i just watched this for the first time in a lo...  pos\n",
      "12365  some people say this is the best film that prc...  pos\n",
      "12034  this story was probably one of the most powerf...  pos\n",
      "...                                                  ...  ...\n",
      "691    five year old michael sees his mother getting ...  neg\n",
      "7635   an allegation of aggravated sexual assault alo...  neg\n",
      "3955   john carpenter s halloween br  br  is it the g...  pos\n",
      "22903  this has to be the best adaptation i have seen...  pos\n",
      "6363    citizen x  is the superbly told true story of...  pos\n",
      "\n",
      "[5000 rows x 2 columns]\n"
     ]
    }
   ],
   "source": [
    "# Title: \n",
    "# Author: Dawei\n",
    "# Date: 02.17.2019\n",
    "# Code version: 1\n",
    "# Availability:\n",
    "#  https://stackoverflow.com/questions/54730276/how-to-randomly-split-a-dataframe-into-several-smaller-dataframes\n",
    "shuffled = train_df.sample(frac=1)\n",
    "result = np.array_split(shuffled, 5)\n",
    "for part in result:\n",
    "    print(part)"
   ]
  },
  {
   "cell_type": "code",
   "execution_count": 13,
   "metadata": {},
   "outputs": [],
   "source": [
    "#function for Naive Bayes Classification\n",
    "def naive_bayes(train, test, smoothing):\n",
    "    word_in_train = docsContainingWord(train)\n",
    "    df_train_pos = train[(train.iloc[:,1].str.contains('pos'))]\n",
    "    word_in_train_pos = docsContainingWord(df_train_pos)\n",
    "    df_train_neg = train[(train.iloc[:,1].str.contains('neg'))]\n",
    "    word_in_train_neg = docsContainingWord(df_train_neg)\n",
    "    sum_word_in_train_pos = sum(word_in_train_pos.values())\n",
    "    sum_word_in_train_neg = sum(word_in_train_neg.values())\n",
    "    test_class_pred = []\n",
    "    for review in test:\n",
    "        rev_words = review.split(' ')\n",
    "        rev_words_dict = dict(collections.Counter(rev_words))\n",
    "        prob_key_pos = prob_key_neg = 1\n",
    "        prob_rev_pos = {}\n",
    "        prob_rev_neg = {}\n",
    "        #Laplace Estimates\n",
    "        if smoothing == 'yes':\n",
    "            for key in rev_words_dict.keys():\n",
    "                prob_key_pos *= rev_words_dict[key] * (word_in_train_pos.get(key, 0) + 1) / (len(df_train_pos) + sum_word_in_train_pos)\n",
    "                #print(prob_key_pos)\n",
    "            prob_rev_pos[review] = prob_key_pos\n",
    "            for key in rev_words_dict.keys():\n",
    "                prob_key_neg *= rev_words_dict[key] * (word_in_train_neg.get(key, 0) + 1) / (len(df_train_neg) + sum_word_in_train_neg)\n",
    "                #print(prob_key_neg)\n",
    "            prob_rev_neg[review] = prob_key_neg\n",
    "        else:\n",
    "            for key in rev_words_dict.keys():\n",
    "                prob_key_pos *= rev_words_dict[key] * (word_in_train_pos.get(key, 0)) / (len(df_train_pos))\n",
    "                #print(prob_key_pos)\n",
    "            prob_rev_pos[review] = prob_key_pos\n",
    "            for key in rev_words_dict.keys():\n",
    "                prob_key_neg *= rev_words_dict[key] * (word_in_train_neg.get(key, 0)) / (len(df_train_neg))\n",
    "                #print(prob_key_neg)\n",
    "            prob_rev_neg[review] = prob_key_neg\n",
    "        if(prob_key_pos > prob_key_neg):\n",
    "            class_rev = 'pos'\n",
    "        else:\n",
    "            class_rev = 'neg'\n",
    "        test_class_pred.append(class_rev)\n",
    "    return test_class_pred\n",
    "\n",
    "#performing cross validation\n",
    "def performingCrossValidation(result, smoothing):\n",
    "    folds = result\n",
    "    scores = list()\n",
    "    fold_prediction_accuracy = {}\n",
    "    for i in range(5):\n",
    "        print('Performing Naive Bayes Classification on Fold :', i+1)\n",
    "        cv_train = folds.copy()\n",
    "        cv_test = folds[i]\n",
    "        del cv_train[i]\n",
    "        cv_train = pd.concat(cv_train, sort=False)\n",
    "        cv_test_rev_list = cv_test.iloc[:,0].to_list()\n",
    "        cv_test_rev_label = cv_test.iloc[:,1].to_list()\n",
    "        prediction = naive_bayes(cv_train, cv_test_rev_list, smoothing)\n",
    "        accurate_pred = 0\n",
    "        for val in range(len(cv_test_rev_label)):\n",
    "            if(prediction[val] == cv_test_rev_label[val]):\n",
    "                accurate_pred +=1\n",
    "        accuracy = accurate_pred / len(cv_test_rev_label) * 100\n",
    "        print('Accuracy of Fold is : {0:.2f}'.format(accuracy))\n",
    "        fold_prediction_accuracy['fold_%s'%(i+1)] = accuracy\n",
    "    \n",
    "    average_accuracy = sum(fold_prediction_accuracy.values())/len(fold_prediction_accuracy)\n",
    "    print('\\nMean Accuracy : {0:.2f}'.format(average_accuracy))\n",
    "    return fold_prediction_accuracy"
   ]
  },
  {
   "cell_type": "markdown",
   "metadata": {},
   "source": [
    "### Part e)\n",
    "#### Calculating accuracies using Development dataset - Performing 5 Fold cross validation."
   ]
  },
  {
   "cell_type": "code",
   "execution_count": 14,
   "metadata": {},
   "outputs": [
    {
     "name": "stdout",
     "output_type": "stream",
     "text": [
      "\n",
      "Performing 5 Fold Cross Validation\n",
      "Performing Naive Bayes Classification on Fold : 1\n",
      "Accuracy of Fold is : 50.56\n",
      "Performing Naive Bayes Classification on Fold : 2\n",
      "Accuracy of Fold is : 49.42\n",
      "Performing Naive Bayes Classification on Fold : 3\n",
      "Accuracy of Fold is : 49.76\n",
      "Performing Naive Bayes Classification on Fold : 4\n",
      "Accuracy of Fold is : 50.04\n",
      "Performing Naive Bayes Classification on Fold : 5\n",
      "Accuracy of Fold is : 50.22\n",
      "\n",
      "Mean Accuracy : 50.00\n"
     ]
    }
   ],
   "source": [
    "print('\\nPerforming 5 Fold Cross Validation')\n",
    "fold_accuracy_no_smoothing = performingCrossValidation(result, smoothing = 'no')"
   ]
  },
  {
   "cell_type": "markdown",
   "metadata": {},
   "source": [
    "#### Comparing the effect of smoothing by comparing accuracies"
   ]
  },
  {
   "cell_type": "code",
   "execution_count": 15,
   "metadata": {},
   "outputs": [
    {
     "name": "stdout",
     "output_type": "stream",
     "text": [
      "\n",
      "\n",
      "Affect of Smoothing\n",
      "Performing Naive Bayes Classification on Fold : 1\n",
      "Accuracy of Fold is : 62.42\n",
      "Performing Naive Bayes Classification on Fold : 2\n",
      "Accuracy of Fold is : 61.62\n",
      "Performing Naive Bayes Classification on Fold : 3\n",
      "Accuracy of Fold is : 62.08\n",
      "Performing Naive Bayes Classification on Fold : 4\n",
      "Accuracy of Fold is : 61.14\n",
      "Performing Naive Bayes Classification on Fold : 5\n",
      "Accuracy of Fold is : 61.42\n",
      "\n",
      "Mean Accuracy : 61.74\n"
     ]
    }
   ],
   "source": [
    "print('\\n\\nAffect of Smoothing')\n",
    "fold_accuracy_yes_smoothing = performingCrossValidation(result, smoothing = 'yes')"
   ]
  },
  {
   "cell_type": "code",
   "execution_count": 16,
   "metadata": {},
   "outputs": [
    {
     "name": "stdout",
     "output_type": "stream",
     "text": [
      "        Smoothing = No  Smoothing = Yes\n",
      "fold_1           50.56            62.42\n",
      "fold_2           49.42            61.62\n",
      "fold_3           49.76            62.08\n",
      "fold_4           50.04            61.14\n",
      "fold_5           50.22            61.42\n"
     ]
    }
   ],
   "source": [
    "accuracy_df = pd.DataFrame([fold_accuracy_no_smoothing, fold_accuracy_yes_smoothing]).T\n",
    "accuracy_df.columns = ['Smoothing = No', 'Smoothing = Yes']\n",
    "print(accuracy_df)"
   ]
  },
  {
   "cell_type": "code",
   "execution_count": 17,
   "metadata": {},
   "outputs": [
    {
     "data": {
      "image/png": "[encoded data removed]",
      "text/plain": [
       "<Figure size 432x288 with 1 Axes>"
      ]
     },
     "metadata": {
      "needs_background": "light"
     },
     "output_type": "display_data"
    }
   ],
   "source": [
    "plt.figure()\n",
    "\n",
    "x = accuracy_df.index\n",
    "y1 = accuracy_df['Smoothing = No']\n",
    "y2 = accuracy_df['Smoothing = Yes']\n",
    "\n",
    "plt.plot(x, y1, marker='.', label='Smoothing = No')\n",
    "plt.plot(x, y2, marker='.', label='Smoothing = Yes')\n",
    "plt.legend()\n",
    "plt.show()"
   ]
  },
  {
   "cell_type": "markdown",
   "metadata": {},
   "source": [
    "Smoothing using *Laplace Estimate* improves the performance of the model. When smoothing was not performed and a word was missed out in the training set, the probabilities of the entire review computed to zero. But with smoothing, the probabilities do not become zero if a particular word is missed out in the training set as if one of the conditional probabilities is zero, then the entire expression computing probabilities becomes zero. It can be noted from the above accuracies that Smoothing makes the classifier peform better."
   ]
  },
  {
   "cell_type": "markdown",
   "metadata": {},
   "source": [
    "#### Derving top 10 words that predict POSITIVE and NEGATIVE class"
   ]
  },
  {
   "cell_type": "code",
   "execution_count": 18,
   "metadata": {},
   "outputs": [
    {
     "name": "stdout",
     "output_type": "stream",
     "text": [
      "Top 10 words that predict POSITIVE class: \n",
      "deardon\n",
      "masami\n",
      "amano\n",
      "mcconnohie\n",
      "gaionsbourg\n",
      "aryans\n",
      "bombardiers\n",
      "supermutant\n",
      "incursion\n",
      "ngoombujarra\n",
      "\n",
      "\n",
      "Top 10 words that predict NEGATIVE class: \n",
      "incher\n",
      "dumpsters\n",
      "abominations\n",
      "ubik\n",
      "montauge\n",
      "overwork\n",
      "panhandlers\n",
      "creepazoid\n",
      "prudery\n",
      "glanse\n"
     ]
    }
   ],
   "source": [
    "pos_w = list(pos_docs_cont_word.keys())\n",
    "neg_w = list(neg_docs_cont_word.keys())\n",
    "all_w = list(set(pos_w + neg_w))\n",
    "prob_pos_w = {}\n",
    "prob_neg_w = {}\n",
    "for w in all_w:\n",
    "    prob_pos_w[w] = ((pos_docs_cont_word.get(w, 0) / total_pos_docs)*(total_pos_docs / total_docs))/ (docs_cont_word.get(w, 0))\n",
    "sorted_prob_pos_w = dict(sorted(prob_pos_w.items(), key=operator.itemgetter(1),reverse=True)[:10])\n",
    "print('Top 10 words that predict POSITIVE class: ')\n",
    "top_w_pos = list(sorted_prob_pos_w.keys())\n",
    "for item in top_w_pos:\n",
    "    print(item)\n",
    "for w in all_w:\n",
    "    prob_neg_w[w] = ((neg_docs_cont_word.get(w, 0) / total_neg_docs)*(total_neg_docs / total_docs))/ (docs_cont_word.get(w, 0))\n",
    "sorted_prob_neg_w = dict(sorted(prob_neg_w.items(), key=operator.itemgetter(1),reverse=True)[:10])\n",
    "print('\\n\\nTop 10 words that predict NEGATIVE class: ')\n",
    "top_w_neg = list(sorted_prob_neg_w.keys())\n",
    "for item in top_w_neg:\n",
    "    print(item)"
   ]
  },
  {
   "cell_type": "markdown",
   "metadata": {},
   "source": [
    "### Part f)\n",
    "#### Calculating the final accuracy using the Test dataset and Optimal Hyperparameters"
   ]
  },
  {
   "cell_type": "code",
   "execution_count": 19,
   "metadata": {},
   "outputs": [
    {
     "name": "stdout",
     "output_type": "stream",
     "text": [
      "Accuracy of Test Data Set is : \u001b[1m61.45\u001b[0m\n"
     ]
    }
   ],
   "source": [
    "test_rev_list = test_df.iloc[:,0].to_list()\n",
    "test_rev_label = test_df.iloc[:,1].to_list()\n",
    "predict_test = naive_bayes(train_df, test_rev_list, smoothing = 'yes')\n",
    "accurate_test = 0\n",
    "for val in range(len(test_rev_label)):\n",
    "    if(predict_test[val] == test_rev_label[val]):\n",
    "        accurate_test +=1\n",
    "final_accuracy = accurate_test / len(test_rev_label) * 100\n",
    "print('Accuracy of Test Data Set is : \\033[1m{0:.2f}\\033[0m'.format(final_accuracy))"
   ]
  },
  {
   "cell_type": "markdown",
   "metadata": {},
   "source": [
    "### References"
   ]
  },
  {
   "cell_type": "markdown",
   "metadata": {},
   "source": [
    "https://stackoverflow.com/questions/41913147/combine-a-folder-of-text-files-into-a-csv-with-each-content-in-a-cell\n",
    "                                                 - for collecting data from text files into a csv\n",
    "\n",
    "https://stackoverflow.com/questions/54730276/how-to-randomly-split-a-dataframe-into-several-smaller-dataframes\n",
    "                                                 - for splitting a dataframe into multiple dataframes"
   ]
  }
 ],
 "metadata": {
  "kernelspec": {
   "display_name": "Python 3",
   "language": "python",
   "name": "python3"
  },
  "language_info": {
   "codemirror_mode": {
    "name": "ipython",
    "version": 3
   },
   "file_extension": ".py",
   "mimetype": "text/x-python",
   "name": "python",
   "nbconvert_exporter": "python",
   "pygments_lexer": "ipython3",
   "version": "3.8.1"
  }
 },
 "nbformat": 4,
 "nbformat_minor": 4
}
